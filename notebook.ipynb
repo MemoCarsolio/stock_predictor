{
 "cells": [
  {
   "cell_type": "code",
   "execution_count": null,
   "metadata": {},
   "outputs": [],
   "source": [
    "# PyTorch\n",
    "import torch\n",
    "import torch.nn as nn\n",
    "import torch.optim as optim\n",
    "# third party imports\n",
    "import pandas as pd \n",
    "# python imports\n",
    "from datetime import date\n",
    "# local imports\n",
    "from packages.rnn import RNN\n",
    "from packages.dataset import DatasetConstructor\n",
    "\n",
    "\n",
    "# Initiate Device\n",
    "device = device = torch.device('cpu')"
   ]
  },
  {
   "cell_type": "code",
   "execution_count": null,
   "metadata": {},
   "outputs": [],
   "source": [
    "SEQUENCE_LENGTH = 10\n",
    "\n",
    "\n",
    "# GET S&P 500 Stocks for training\n",
    "STOCK_LIST = pd.read_excel('stocks.xlsx')['Stock'].tolist()\n",
    "\n",
    "dataset = DatasetConstructor(\n",
    "    STOCK_LIST, date(2000, 1, 1), date(2021, 1, 1),SEQUENCE_LENGTH, 100)\n",
    "\n",
    "training_batches = dataset.dataset_to_training_tensor()"
   ]
  },
  {
   "cell_type": "code",
   "execution_count": null,
   "metadata": {},
   "outputs": [],
   "source": []
  },
  {
   "cell_type": "code",
   "execution_count": null,
   "metadata": {},
   "outputs": [],
   "source": [
    "num_layers = 1\n",
    "hidden_size = 2\n",
    "\n",
    "model = RNN(dataset.input_size, hidden_size, num_layers, dataset.input_size)\n",
    "\n",
    "EPOCHS = 12\n",
    "optimizer = optim.Adam(model.parameters(), lr=0.005)\n",
    "criterion = nn.CrossEntropyLoss()\n",
    "\n",
    "last_x = None\n",
    "for epoch in range(EPOCHS):\n",
    "    for data in training_batches:\n",
    "\n",
    "        X_tensor = data['tensor']\n",
    "        labels = data['labels']\n",
    "        labels = labels.long()\n",
    "\n",
    "        output = model(X_tensor)\n",
    "\n",
    "        loss = criterion(output, labels)\n",
    "        model.zero_grad()  \n",
    "        loss.backward()\n",
    "        optimizer.step()\n",
    "\n",
    "        last_x = X_tensor\n",
    "\n",
    "    print(loss)\n",
    "\n",
    "torch.save(model.state_dict(),'./epochs/model_'+str(SEQUENCE_LENGTH)+ \\\n",
    "    's_' + str(num_layers) + 'l_' +str(hidden_size) + 'h.pt')\n",
    "    \n",
    "all = DatasetConstructor(\n",
    "    ['ADBE','MSFT','PYPL'], date(2021, 1, 1), date.today(),15, 1)\n",
    "adbe = DatasetConstructor(\n",
    "    ['ADBE'], date(2021, 1, 1), date.today(),15, 1)\n",
    "msft = DatasetConstructor(\n",
    "    ['MSFT'], date(2021, 1, 1), date.today(),15, 1)\n",
    "pypl = DatasetConstructor(\n",
    "    ['PYPL'], date(2021, 1, 1), date.today(),15, 1)\n",
    "\n",
    "testing_datasets = {\n",
    "    'ALL' : all,\n",
    "    'ADBE': adbe,\n",
    "    'MSFT': msft,\n",
    "    'PYPL': pypl\n",
    "}\n"
   ]
  },
  {
   "cell_type": "code",
   "execution_count": null,
   "metadata": {},
   "outputs": [],
   "source": [
    "\n",
    "\n",
    "for dset in testing_datasets:\n",
    "\n",
    "\n",
    "    testing_batches = testing_datasets[dset].dataset_to_training_tensor()\n",
    "\n",
    "\n",
    "    with torch.no_grad():\n",
    "        n_correct = 0\n",
    "        n_samples = 0\n",
    "        for data in testing_batches:\n",
    "            X_tensor = data['tensor']\n",
    "            labels = data['labels']\n",
    "            outputs = model(X_tensor)\n",
    "\n",
    "            _, predicted = torch.max(outputs.data, 1)\n",
    "            n_samples += labels.size(0)\n",
    "            n_correct += (predicted == labels).sum().item()\n",
    "\n",
    "        acc = 100.0 * n_correct / n_samples\n",
    "        print(f'{dset} Accuracy: {acc} %')"
   ]
  }
 ],
 "metadata": {
  "interpreter": {
   "hash": "f277b6a6059d2b7e69af31db574cc72f0ba45157ebe609ad2f60c0c996cd44c0"
  },
  "kernelspec": {
   "display_name": "Python 3.8.5 64-bit ('base': conda)",
   "name": "python3"
  },
  "language_info": {
   "codemirror_mode": {
    "name": "ipython",
    "version": 3
   },
   "file_extension": ".py",
   "mimetype": "text/x-python",
   "name": "python",
   "nbconvert_exporter": "python",
   "pygments_lexer": "ipython3",
   "version": "3.8.5"
  },
  "orig_nbformat": 4
 },
 "nbformat": 4,
 "nbformat_minor": 2
}
